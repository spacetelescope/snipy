{
 "cells": [
  {
   "cell_type": "markdown",
   "id": "dfebe3ba-7354-4be9-8e24-458a96ba53ce",
   "metadata": {},
   "source": [
    "# Getting Started\n",
    "\n",
    "Displays an interactive interface to display URL/local fits files."
   ]
  },
  {
   "cell_type": "code",
   "execution_count": 1,
   "id": "409bb808-f677-4922-b237-4c9e8d0e7cb6",
   "metadata": {},
   "outputs": [],
   "source": [
    "from snipy import SnipPyFits"
   ]
  },
  {
   "cell_type": "code",
   "execution_count": 8,
   "id": "993206b7-dadc-409d-a6dc-4fdb2a57a80f",
   "metadata": {
    "editable": true,
    "slideshow": {
     "slide_type": ""
    },
    "tags": []
   },
   "outputs": [
    {
     "data": {
      "text/html": [
       "<style>.Background > .widget-box { background-color: #000f14; padding: 25px; }</style>"
      ],
      "text/plain": [
       "<IPython.core.display.HTML object>"
      ]
     },
     "metadata": {},
     "output_type": "display_data"
    },
    {
     "data": {
      "application/vnd.jupyter.widget-view+json": {
       "model_id": "efcf6b534a634db3886224b5dc95ec94",
       "version_major": 2,
       "version_minor": 0
      },
      "text/plain": [
       "VBox(children=(HBox(children=(VBox(children=(Output(), ImageCounter(total=3))), VBox(children=(Coordinates(dec…"
      ]
     },
     "metadata": {},
     "output_type": "display_data"
    }
   ],
   "source": [
    "Snip = SnipPyFits([\n",
    "                \"https://mast.stsci.edu/search/hst/api/v0.1/retrieve_product?product_name=IDXR28030%2Fidxr28030_drz.fits\",\n",
    "                \"https://mast.stsci.edu/search/hst/api/v0.1/retrieve_product?product_name=IDXR28040%2Fidxr28040_drz.fits\",\n",
    "                \"https://mast.stsci.edu/search/hst/api/v0.1/retrieve_product?product_name=IDXR28050%2Fidxr28050_drz.fits\"\n",
    "                ])\n",
    "Snip"
   ]
  },
  {
   "cell_type": "code",
   "execution_count": 11,
   "id": "4d28acfd-d06a-49d6-9240-608373cca1d5",
   "metadata": {},
   "outputs": [],
   "source": [
    "cut1 = Snip.cutout[1]"
   ]
  },
  {
   "cell_type": "code",
   "execution_count": 12,
   "id": "cc262d7b-aadb-4336-a3bf-8fa501bd1f24",
   "metadata": {},
   "outputs": [
    {
     "data": {
      "text/plain": [
       "<astropy.io.fits.hdu.image.ImageHDU at 0x10eba82d0>"
      ]
     },
     "execution_count": 12,
     "metadata": {},
     "output_type": "execute_result"
    }
   ],
   "source": [
    "cut1"
   ]
  },
  {
   "cell_type": "code",
   "execution_count": null,
   "id": "9b29b61c-034a-48eb-8946-9b950e636a0c",
   "metadata": {},
   "outputs": [],
   "source": []
  }
 ],
 "metadata": {
  "kernelspec": {
   "display_name": "Python (Astrocut)",
   "language": "python",
   "name": "astrocut"
  },
  "language_info": {
   "codemirror_mode": {
    "name": "ipython",
    "version": 3
   },
   "file_extension": ".py",
   "mimetype": "text/x-python",
   "name": "python",
   "nbconvert_exporter": "python",
   "pygments_lexer": "ipython3",
   "version": "3.13.2"
  }
 },
 "nbformat": 4,
 "nbformat_minor": 5
}
