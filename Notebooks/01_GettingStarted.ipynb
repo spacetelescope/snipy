{
 "cells": [
  {
   "cell_type": "markdown",
   "id": "dfebe3ba-7354-4be9-8e24-458a96ba53ce",
   "metadata": {},
   "source": [
    "# Getting Started\n",
    "\n",
    "Displays an interactive interface to display URL/local fits files."
   ]
  },
  {
   "cell_type": "code",
   "execution_count": null,
   "id": "409bb808-f677-4922-b237-4c9e8d0e7cb6",
   "metadata": {},
   "outputs": [],
   "source": [
    "from snipy import SnipPyFits"
   ]
  },
  {
   "cell_type": "code",
   "execution_count": null,
   "id": "1e25cdc9-1a04-4a51-9b13-af79743737b2",
   "metadata": {},
   "outputs": [],
   "source": [
    "Snip = SnipPyFits([\n",
    "                \"https://mast.stsci.edu/search/hst/api/v0.1/retrieve_product?product_name=IDXR28030%2Fidxr28030_drz.fits\",\n",
    "                \"https://mast.stsci.edu/search/hst/api/v0.1/retrieve_product?product_name=IDXR28040%2Fidxr28040_drz.fits\",\n",
    "                \"https://mast.stsci.edu/search/hst/api/v0.1/retrieve_product?product_name=IDXR28050%2Fidxr28050_drz.fits\",\n",
    "                  ])\n",
    "Snip"
   ]
  }
 ],
 "metadata": {
  "kernelspec": {
   "display_name": "Python (snipy)",
   "language": "python",
   "name": "snipy-venv"
  },
  "language_info": {
   "codemirror_mode": {
    "name": "ipython",
    "version": 3
   },
   "file_extension": ".py",
   "mimetype": "text/x-python",
   "name": "python",
   "nbconvert_exporter": "python",
   "pygments_lexer": "ipython3",
   "version": "3.13.2"
  }
 },
 "nbformat": 4,
 "nbformat_minor": 5
}
