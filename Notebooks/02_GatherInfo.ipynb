{
 "cells": [
  {
   "cell_type": "markdown",
   "id": "dfebe3ba-7354-4be9-8e24-458a96ba53ce",
   "metadata": {},
   "source": [
    "# Gather Information\n",
    "\n",
    "Various instances you can pull, if you need the value."
   ]
  },
  {
   "cell_type": "markdown",
   "id": "66c6fe75-edee-457f-a75f-47889df94eda",
   "metadata": {},
   "source": [
    "## Start the interface\n",
    "\n",
    "Various instances you can pull, if you need the value."
   ]
  },
  {
   "cell_type": "code",
   "execution_count": 1,
   "id": "1e25cdc9-1a04-4a51-9b13-af79743737b2",
   "metadata": {},
   "outputs": [
    {
     "data": {
      "text/html": [
       "<style>.Background > .widget-box { background-color: #000f14; padding: 25px; }</style>"
      ],
      "text/plain": [
       "<IPython.core.display.HTML object>"
      ]
     },
     "metadata": {},
     "output_type": "display_data"
    },
    {
     "data": {
      "application/vnd.jupyter.widget-view+json": {
       "model_id": "a023994d22b34983a71847a6d1fac8fc",
       "version_major": 2,
       "version_minor": 0
      },
      "text/plain": [
       "VBox(children=(HBox(children=(VBox(children=(Output(), ImageCounter(total=3))), VBox(children=(Coordinates(dec…"
      ]
     },
     "metadata": {},
     "output_type": "display_data"
    }
   ],
   "source": [
    "from snipy import SnipPyFits\n",
    "Snip = SnipPyFits([\n",
    "                \"https://mast.stsci.edu/search/hst/api/v0.1/retrieve_product?product_name=IDXR28030%2Fidxr28030_drz.fits\",\n",
    "                \"https://mast.stsci.edu/search/hst/api/v0.1/retrieve_product?product_name=IDXR28040%2Fidxr28040_drz.fits\",\n",
    "                \"https://mast.stsci.edu/search/hst/api/v0.1/retrieve_product?product_name=IDXR28050%2Fidxr28050_drz.fits\",\n",
    "                  ])\n",
    "Snip"
   ]
  },
  {
   "cell_type": "markdown",
   "id": "3c13b510-d43b-4e8b-82bb-f6a8eb22dfcf",
   "metadata": {},
   "source": [
    "## Saving to memory\n",
    "\n",
    "Cutout will save automatically as you adjust image.\n",
    "\n",
    "To recall a cutout for future use in notebook you can...\n",
    "\n",
    "*if you save as a variable, it will store that particular cutout*"
   ]
  },
  {
   "cell_type": "code",
   "execution_count": 2,
   "id": "5a12ce86-0f29-4821-888c-ae25519b85e9",
   "metadata": {},
   "outputs": [],
   "source": [
    "Name = Snip.cutout[1]"
   ]
  },
  {
   "cell_type": "code",
   "execution_count": 3,
   "id": "ba979d68-b3ac-4b1e-91fb-1a64e595b6ba",
   "metadata": {},
   "outputs": [
    {
     "data": {
      "text/plain": [
       "<astropy.io.fits.hdu.image.ImageHDU at 0x125688b90>"
      ]
     },
     "execution_count": 3,
     "metadata": {},
     "output_type": "execute_result"
    }
   ],
   "source": [
    "Name"
   ]
  },
  {
   "cell_type": "markdown",
   "id": "64e10aef-7925-4b49-a3ad-5e1d0f825705",
   "metadata": {},
   "source": [
    "## Coordinates\n",
    "Parameters being used for cutout\n",
    "\n",
    "*if you save as a variable, it will store that particular cutout*"
   ]
  },
  {
   "cell_type": "code",
   "execution_count": 4,
   "id": "dc35542b-b20a-429e-862b-c0806ff90875",
   "metadata": {},
   "outputs": [
    {
     "data": {
      "text/plain": [
       "1.3557063704204935e-05"
      ]
     },
     "execution_count": 4,
     "metadata": {},
     "output_type": "execute_result"
    }
   ],
   "source": [
    "Snip.Coords.ra\n",
    "Snip.Coords.dec\n",
    "\n",
    "Snip.Coords.min_ra\n",
    "Snip.Coords.min_dec\n",
    "\n",
    "Snip.Coords.max_ra\n",
    "Snip.Coords.max_dec\n",
    "\n",
    "Snip.Coords.ra_step_size\n",
    "Snip.Coords.dec_step_size"
   ]
  },
  {
   "cell_type": "markdown",
   "id": "417ef888-3aed-4ada-89d2-a6402e2a3174",
   "metadata": {},
   "source": [
    "## Size\n",
    "Parameters being used for cutout\n",
    "\n",
    "*if you save as a variable, it will store that particular cutout*"
   ]
  },
  {
   "cell_type": "code",
   "execution_count": 5,
   "id": "29673561-fdb2-4790-a2ce-feaa54220018",
   "metadata": {},
   "outputs": [
    {
     "data": {
      "text/plain": [
       "4477.0"
      ]
     },
     "execution_count": 5,
     "metadata": {},
     "output_type": "execute_result"
    }
   ],
   "source": [
    "Snip.Size.cropwidth\n",
    "Snip.Size.cropheight"
   ]
  },
  {
   "cell_type": "markdown",
   "id": "c5fbf997-411b-412b-94de-6616d1aafaef",
   "metadata": {},
   "source": [
    "## Normalization\n",
    "Parameters being used for cutout\n",
    "\n",
    "*if you save as a variable, it will store that particular cutout*"
   ]
  },
  {
   "cell_type": "code",
   "execution_count": 6,
   "id": "2b806376-e74c-4510-9fa9-c0eb644d57f7",
   "metadata": {},
   "outputs": [
    {
     "data": {
      "text/plain": [
       "False"
      ]
     },
     "execution_count": 6,
     "metadata": {},
     "output_type": "execute_result"
    }
   ],
   "source": [
    "Snip.Normalize.stretch\n",
    "Snip.Normalize.min_percent\n",
    "Snip.Normalize.max_percent\n",
    "Snip.Normalize.invert\n",
    "Snip.Normalize.colorize"
   ]
  },
  {
   "cell_type": "markdown",
   "id": "ac497958-f092-4449-9b7d-2bc0a37e49c1",
   "metadata": {},
   "source": [
    "## Catalog\n",
    "Parameters being used for cutout\n",
    "\n",
    "*if you save as a variable, it will store that particular cutout*"
   ]
  },
  {
   "cell_type": "code",
   "execution_count": 8,
   "id": "0513f41b-04f3-42ec-b93b-b90984230467",
   "metadata": {},
   "outputs": [
    {
     "data": {
      "text/plain": [
       "3"
      ]
     },
     "execution_count": 8,
     "metadata": {},
     "output_type": "execute_result"
    }
   ],
   "source": [
    "Snip.Catalog.total"
   ]
  }
 ],
 "metadata": {
  "kernelspec": {
   "display_name": "Python (snipy)",
   "language": "python",
   "name": "snipy-venv"
  },
  "language_info": {
   "codemirror_mode": {
    "name": "ipython",
    "version": 3
   },
   "file_extension": ".py",
   "mimetype": "text/x-python",
   "name": "python",
   "nbconvert_exporter": "python",
   "pygments_lexer": "ipython3",
   "version": "3.13.2"
  }
 },
 "nbformat": 4,
 "nbformat_minor": 5
}
