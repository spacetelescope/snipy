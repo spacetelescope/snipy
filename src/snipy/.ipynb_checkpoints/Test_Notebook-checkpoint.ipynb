{
 "cells": [
  {
   "cell_type": "code",
   "execution_count": 4,
   "id": "5355aa27-fa97-4139-894d-b51f2f2c1056",
   "metadata": {},
   "outputs": [],
   "source": [
    "from snipy import SnipPyFits"
   ]
  },
  {
   "cell_type": "code",
   "execution_count": 7,
   "id": "4d30e7af-2a7a-4ff4-ab6f-26b36fa9106a",
   "metadata": {},
   "outputs": [],
   "source": [
    "# Snip = SnipPyFits([\"https://mast.stsci.edu/search/hst/api/v0.1/retrieve_product?product_name=J8UP02USQ%2Fj8up02usq_drz.fits\"])\n",
    "\n",
    "\n",
    "Snip = SnipPyFits([\"https://mast.stsci.edu/search/hst/api/v0.1/retrieve_product?product_name=J8UP02USQ%2Fj8up02usq_drz.fits\",\n",
    "            \"https://mast.stsci.edu/search/hst/api/v0.1/retrieve_product?product_name=J8UP02UTQ%2Fj8up02utq_drz.fits\",\n",
    "            \"https://mast.stsci.edu/search/hst/api/v0.1/retrieve_product?product_name=J8UP02UUQ%2Fj8up02uuq_drz.fits\"\n",
    "           ])"
   ]
  },
  {
   "cell_type": "code",
   "execution_count": 8,
   "id": "0137e555-6837-4859-90a0-b2cee3857a47",
   "metadata": {},
   "outputs": [
    {
     "data": {
      "text/html": [
       "<style>.Background > .widget-box { background-color: #000f14; padding: 25px; }</style>"
      ],
      "text/plain": [
       "<IPython.core.display.HTML object>"
      ]
     },
     "metadata": {},
     "output_type": "display_data"
    },
    {
     "data": {
      "application/vnd.jupyter.widget-view+json": {
       "model_id": "a7b3b9b024784797a8704cd7a82300b7",
       "version_major": 2,
       "version_minor": 0
      },
      "text/plain": [
       "VBox(children=(HBox(children=(VBox(children=(Output(), ImageCounter(total=3))), VBox(children=(Coordinates(dec…"
      ]
     },
     "metadata": {},
     "output_type": "display_data"
    }
   ],
   "source": [
    "Snip"
   ]
  },
  {
   "cell_type": "code",
   "execution_count": null,
   "id": "0056a65b-3e3b-488b-b75e-252c825c2910",
   "metadata": {},
   "outputs": [],
   "source": []
  }
 ],
 "metadata": {
  "kernelspec": {
   "display_name": "Python 3 (ipykernel)",
   "language": "python",
   "name": "python3"
  },
  "language_info": {
   "codemirror_mode": {
    "name": "ipython",
    "version": 3
   },
   "file_extension": ".py",
   "mimetype": "text/x-python",
   "name": "python",
   "nbconvert_exporter": "python",
   "pygments_lexer": "ipython3",
   "version": "3.13.2"
  }
 },
 "nbformat": 4,
 "nbformat_minor": 5
}
