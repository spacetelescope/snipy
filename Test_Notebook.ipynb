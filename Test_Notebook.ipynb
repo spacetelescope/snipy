{
 "cells": [
  {
   "cell_type": "code",
   "execution_count": 1,
   "id": "5355aa27-fa97-4139-894d-b51f2f2c1056",
   "metadata": {},
   "outputs": [
    {
     "name": "stdout",
     "output_type": "stream",
     "text": [
      "env: ANYWIDGET_HMR=1\n"
     ]
    },
    {
     "data": {
      "text/html": [
       "<style>.Background > .widget-box { background-color: #000f14; padding: 25px; }</style>"
      ],
      "text/plain": [
       "<IPython.core.display.HTML object>"
      ]
     },
     "metadata": {},
     "output_type": "display_data"
    },
    {
     "data": {
      "application/vnd.jupyter.widget-view+json": {
       "model_id": "a0870dca471e469c95fd5a228578c9b3",
       "version_major": 2,
       "version_minor": 0
      },
      "text/plain": [
       "VBox(children=(HBox(children=(VBox(children=(Output(), ImageCounter())), VBox(children=(Coordinates(dec=np.flo…"
      ]
     },
     "metadata": {},
     "output_type": "display_data"
    }
   ],
   "source": [
    "%env ANYWIDGET_HMR=1\n",
    "from snipy import SnipPyFits\n",
    "Snip = SnipPyFits([\"https://mast.stsci.edu/search/hst/api/v0.1/retrieve_product?product_name=J8UP02USQ%2Fj8up02usq_drz.fits\"])\n",
    "Snip"
   ]
  },
  {
   "cell_type": "code",
   "execution_count": null,
   "id": "4d30e7af-2a7a-4ff4-ab6f-26b36fa9106a",
   "metadata": {},
   "outputs": [],
   "source": [
    "# Snip = SnipPyFits([\"https://mast.stsci.edu/search/hst/api/v0.1/retrieve_product?product_name=J8UP02USQ%2Fj8up02usq_drz.fits\"])\n",
    "\n",
    "\n",
    "# Snip = SnipPyFits([\"https://mast.stsci.edu/search/hst/api/v0.1/retrieve_product?product_name=J8UP02USQ%2Fj8up02usq_drz.fits\",\n",
    "#             \"https://mast.stsci.edu/search/hst/api/v0.1/retrieve_product?product_name=J8UP02UTQ%2Fj8up02utq_drz.fits\",\n",
    "#             \"https://mast.stsci.edu/search/hst/api/v0.1/retrieve_product?product_name=J8UP02UUQ%2Fj8up02uuq_drz.fits\"\n",
    "#            ])\n",
    "\n",
    "Snip = SnipPyFits(['/Users/jminter/Python/snipy/retrieve_product?product_name=J8UP02USQ%2Fj8up02usq_drz_83.8187677_-5.3899192_531.0-x-519.0_astrocut.fits',\n",
    "            '/Users/jminter/Python/snipy/retrieve_product?product_name=J8UP02UTQ%2Fj8up02utq_drz_83.8187677_-5.3899192_531.0-x-519.0_astrocut.fits',\n",
    "            '/Users/jminter/Python/snipy/retrieve_product?product_name=J8UP02UUQ%2Fj8up02uuq_drz_83.8187677_-5.3899192_531.0-x-519.0_astrocut.fits'\n",
    "           ])"
   ]
  },
  {
   "cell_type": "code",
   "execution_count": null,
   "id": "0137e555-6837-4859-90a0-b2cee3857a47",
   "metadata": {},
   "outputs": [],
   "source": [
    "Snip"
   ]
  },
  {
   "cell_type": "code",
   "execution_count": null,
   "id": "0056a65b-3e3b-488b-b75e-252c825c2910",
   "metadata": {},
   "outputs": [],
   "source": []
  }
 ],
 "metadata": {
  "kernelspec": {
   "display_name": "Python 3 (ipykernel)",
   "language": "python",
   "name": "python3"
  },
  "language_info": {
   "codemirror_mode": {
    "name": "ipython",
    "version": 3
   },
   "file_extension": ".py",
   "mimetype": "text/x-python",
   "name": "python",
   "nbconvert_exporter": "python",
   "pygments_lexer": "ipython3",
   "version": "3.13.2"
  }
 },
 "nbformat": 4,
 "nbformat_minor": 5
}
