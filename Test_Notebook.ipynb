{
 "cells": [
  {
   "cell_type": "code",
   "execution_count": 1,
   "id": "6e4122a8-6271-49b8-a2a8-53e2306bdee1",
   "metadata": {},
   "outputs": [
    {
     "name": "stdout",
     "output_type": "stream",
     "text": [
      "env: ANYWIDGET_HMR=1\n"
     ]
    }
   ],
   "source": [
    "%env ANYWIDGET_HMR=1"
   ]
  },
  {
   "cell_type": "code",
   "execution_count": 2,
   "id": "d3759082-3824-44f0-9b5f-e54c453b4b10",
   "metadata": {},
   "outputs": [],
   "source": [
    "from snipy import SnipPyFits"
   ]
  },
  {
   "cell_type": "code",
   "execution_count": 3,
   "id": "fd7a1f99-6f44-4ddd-9f02-0de01a454765",
   "metadata": {},
   "outputs": [
    {
     "data": {
      "text/html": [
       "<style>.Background > .widget-box { background-color: #000f14; padding: 25px; }</style>"
      ],
      "text/plain": [
       "<IPython.core.display.HTML object>"
      ]
     },
     "metadata": {},
     "output_type": "display_data"
    },
    {
     "data": {
      "application/vnd.jupyter.widget-view+json": {
       "model_id": "ca26c9ac24bb42c5bd6009783861dd26",
       "version_major": 2,
       "version_minor": 0
      },
      "text/plain": [
       "VBox(children=(HBox(children=(VBox(children=(Output(), ImageCounter(total=3))), VBox(children=(Coordinates(dec…"
      ]
     },
     "metadata": {},
     "output_type": "display_data"
    }
   ],
   "source": [
    "Snip = SnipPyFits([\n",
    "                \"https://mast.stsci.edu/search/hst/api/v0.1/retrieve_product?product_name=IDXR28030%2Fidxr28030_drz.fits\",\n",
    "                \"https://mast.stsci.edu/search/hst/api/v0.1/retrieve_product?product_name=IDXR28040%2Fidxr28040_drz.fits\",\n",
    "                \"https://mast.stsci.edu/search/hst/api/v0.1/retrieve_product?product_name=IDXR28050%2Fidxr28050_drz.fits\"\n",
    "                ])\n",
    "Snip"
   ]
  },
  {
   "cell_type": "code",
   "execution_count": null,
   "id": "91ff80e2-afd8-4f56-baa1-dc4791c920cd",
   "metadata": {},
   "outputs": [],
   "source": []
  }
 ],
 "metadata": {
  "kernelspec": {
   "display_name": "Python (SnipPy)",
   "language": "python",
   "name": "snippy-venv"
  },
  "language_info": {
   "codemirror_mode": {
    "name": "ipython",
    "version": 3
   },
   "file_extension": ".py",
   "mimetype": "text/x-python",
   "name": "python",
   "nbconvert_exporter": "python",
   "pygments_lexer": "ipython3",
   "version": "3.13.2"
  }
 },
 "nbformat": 4,
 "nbformat_minor": 5
}
